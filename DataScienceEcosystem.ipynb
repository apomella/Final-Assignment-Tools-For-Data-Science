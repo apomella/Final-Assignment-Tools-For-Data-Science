{
  "metadata": {
    "kernelspec": {
      "name": "python",
      "display_name": "Python (Pyodide)",
      "language": "python"
    },
    "language_info": {
      "codemirror_mode": {
        "name": "python",
        "version": 3
      },
      "file_extension": ".py",
      "mimetype": "text/x-python",
      "name": "python",
      "nbconvert_exporter": "python",
      "pygments_lexer": "ipython3",
      "version": "3.8"
    }
  },
  "nbformat_minor": 5,
  "nbformat": 4,
  "cells": [
    {
      "id": "305a3473-fb60-4cb3-a367-e742bae07da0",
      "cell_type": "markdown",
      "source": "# Data Science Tools and Ecosystem",
      "metadata": {}
    },
    {
      "id": "5008afae-b40e-4a95-b6a9-501af5ced048",
      "cell_type": "markdown",
      "source": "In this notebook, Data Science Tools and Ecosystem are summarized.",
      "metadata": {}
    },
    {
      "id": "73610f93-aa35-474e-9cae-1e418add2e66",
      "cell_type": "markdown",
      "source": "**Objectives:**\n- List examples of languages, libraries and tools used in Data Science.\n- Create a GitHub account and a project repository.\n- Use the inbuilt R plot function.\n- Share your Jupyter Notebook publicly on GitHub.",
      "metadata": {}
    },
    {
      "id": "a8cdb594-eac1-42c2-992a-56a2b67b844f",
      "cell_type": "markdown",
      "source": "Some of the popular languages that Data Scientists use are:\n1. Python\n2. R\n3. SQL",
      "metadata": {}
    },
    {
      "id": "5ed3f957-640f-40d9-9f2d-20c6eaa2f34f",
      "cell_type": "markdown",
      "source": "Some of the commonly used libraries used by Data Scientists include:\n1. NumPy\n2. Matplotlib\n3. Pandas\n4. SciPy\n5. PyTorch\n6. Seaborn\n",
      "metadata": {}
    },
    {
      "id": "2f95953b-d5c5-4ec5-8f42-50e489592cb3",
      "cell_type": "markdown",
      "source": "| Data Science Tools |\n|--------------------|\n| Jupyter Notebook |\n| Anaconda |\n| RStudio | ",
      "metadata": {}
    },
    {
      "id": "fc1ed7f6-e879-46c9-b45b-7e0558322212",
      "cell_type": "markdown",
      "source": "### Below are a few examples of evaluating arithmetic expressions in Python:",
      "metadata": {}
    },
    {
      "id": "cad918f0-8eb3-4090-9e21-0cd88d860636",
      "cell_type": "code",
      "source": "# This a simple arithmetic expression to mutiply then add integers.\n(3*4)+5",
      "metadata": {
        "trusted": true,
        "scrolled": true
      },
      "outputs": [
        {
          "execution_count": 3,
          "output_type": "execute_result",
          "data": {
            "text/plain": "17"
          },
          "metadata": {}
        }
      ],
      "execution_count": 3
    },
    {
      "id": "45645203-ba94-4266-a0dc-bc65910a017b",
      "cell_type": "code",
      "source": "# This will convert 200 minutes to hours by diving by 60.\n200/60",
      "metadata": {
        "trusted": true
      },
      "outputs": [
        {
          "execution_count": 33,
          "output_type": "execute_result",
          "data": {
            "text/plain": "3.3333333333333335"
          },
          "metadata": {}
        }
      ],
      "execution_count": 33
    },
    {
      "id": "e994df63-8239-4b3e-98cd-607d7df78781",
      "cell_type": "markdown",
      "source": "## Author:\nAdriana Pomella",
      "metadata": {}
    }
  ]
}